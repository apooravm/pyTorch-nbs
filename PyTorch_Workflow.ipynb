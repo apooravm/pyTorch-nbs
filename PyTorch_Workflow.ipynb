{
  "nbformat": 4,
  "nbformat_minor": 0,
  "metadata": {
    "colab": {
      "provenance": [],
      "authorship_tag": "ABX9TyNtAWLlhnp8GRIzWQgBTJfq",
      "include_colab_link": true
    },
    "kernelspec": {
      "name": "python3",
      "display_name": "Python 3"
    },
    "language_info": {
      "name": "python"
    }
  },
  "cells": [
    {
      "cell_type": "markdown",
      "metadata": {
        "id": "view-in-github",
        "colab_type": "text"
      },
      "source": [
        "<a href=\"https://colab.research.google.com/github/apooravm/pyTorch-nbs/blob/main/PyTorch_Workflow.ipynb\" target=\"_parent\"><img src=\"https://colab.research.google.com/assets/colab-badge.svg\" alt=\"Open In Colab\"/></a>"
      ]
    },
    {
      "cell_type": "code",
      "execution_count": 1,
      "metadata": {
        "colab": {
          "base_uri": "https://localhost:8080/",
          "height": 35
        },
        "id": "4Ul8veph64bT",
        "outputId": "9a0e2335-1941-48f8-d903-52a28083a259"
      },
      "outputs": [
        {
          "output_type": "execute_result",
          "data": {
            "text/plain": [
              "'1.13.1+cu116'"
            ],
            "application/vnd.google.colaboratory.intrinsic+json": {
              "type": "string"
            }
          },
          "metadata": {},
          "execution_count": 1
        }
      ],
      "source": [
        "import torch\n",
        "from torch import nn # nn contains basic building block for graphs (nn graphs)\n",
        "import matplotlib.pyplot as plt\n",
        "\n",
        "torch.__version__"
      ]
    },
    {
      "cell_type": "markdown",
      "source": [
        "# NN Graph\n",
        "<img src=\"https://1.cms.s81c.com/sites/default/files/2021-04-15/ICLH_Diagram_Batch_01_03-DeepNeuralNetwork-WHITEBG.png\" width=\"400px\">y"
      ],
      "metadata": {
        "id": "uyxcsSLR7ELi"
      }
    },
    {
      "cell_type": "code",
      "source": [
        "# Create *known* parameters\n",
        "weight = 0.7\n",
        "bias = 0.3\n",
        "# Create\n",
        "start = 0\n",
        "end = 1\n",
        "step = 0.02\n",
        "X = torch.arange(start, end, step).unsqueeze(dim=1)\n",
        "y = weight * X + bias\n",
        "\n",
        "X[:10], y[:10]"
      ],
      "metadata": {
        "colab": {
          "base_uri": "https://localhost:8080/"
        },
        "id": "Ms_EQZ767PSx",
        "outputId": "9ef910eb-f5ab-470c-839a-4c6a930f013a"
      },
      "execution_count": 2,
      "outputs": [
        {
          "output_type": "execute_result",
          "data": {
            "text/plain": [
              "(tensor([[0.0000],\n",
              "         [0.0200],\n",
              "         [0.0400],\n",
              "         [0.0600],\n",
              "         [0.0800],\n",
              "         [0.1000],\n",
              "         [0.1200],\n",
              "         [0.1400],\n",
              "         [0.1600],\n",
              "         [0.1800]]), tensor([[0.3000],\n",
              "         [0.3140],\n",
              "         [0.3280],\n",
              "         [0.3420],\n",
              "         [0.3560],\n",
              "         [0.3700],\n",
              "         [0.3840],\n",
              "         [0.3980],\n",
              "         [0.4120],\n",
              "         [0.4260]]))"
            ]
          },
          "metadata": {},
          "execution_count": 2
        }
      ]
    },
    {
      "cell_type": "code",
      "source": [
        "from IPython.lib.display import YouTubeVideo\n",
        "# Train/Test Split\n",
        "train_split = int(0.8 * len(X))\n",
        "X_train, y_train = X[:train_split], y[:train_split]\n",
        "X_test, y_test = X[train_split:], y[train_split:]\n",
        "\n",
        "len(X_test), len(y_test), len(X_train), len(y_train)"
      ],
      "metadata": {
        "colab": {
          "base_uri": "https://localhost:8080/"
        },
        "id": "0NMjvWaj8nPs",
        "outputId": "75263cbc-6b99-49f0-8fa6-e85adb3cf01d"
      },
      "execution_count": 3,
      "outputs": [
        {
          "output_type": "execute_result",
          "data": {
            "text/plain": [
              "(10, 10, 40, 40)"
            ]
          },
          "metadata": {},
          "execution_count": 3
        }
      ]
    },
    {
      "cell_type": "markdown",
      "source": [
        "# YT"
      ],
      "metadata": {
        "id": "jNOXXKaQfCVi"
      }
    },
    {
      "cell_type": "code",
      "source": [
        "vid = YouTubeVideo(\"V_xro1bcAuA\", start=17943)\n",
        "# vid = YouTubeVideo(\"V_xro1bcAuA\", start=17943, width=800, height=450)\n",
        "display(vid)"
      ],
      "metadata": {
        "colab": {
          "base_uri": "https://localhost:8080/",
          "height": 321
        },
        "id": "_iTEAt9K8-_-",
        "outputId": "6360caa2-061c-49ea-ddeb-2022cfe729b6"
      },
      "execution_count": 4,
      "outputs": [
        {
          "output_type": "display_data",
          "data": {
            "text/plain": [
              "<IPython.lib.display.YouTubeVideo at 0x7f019771d220>"
            ],
            "text/html": [
              "\n",
              "        <iframe\n",
              "            width=\"400\"\n",
              "            height=\"300\"\n",
              "            src=\"https://www.youtube.com/embed/V_xro1bcAuA?start=17943\"\n",
              "            frameborder=\"0\"\n",
              "            allowfullscreen\n",
              "        ></iframe>\n",
              "        "
            ],
            "image/jpeg": "[encoded data removed]"
          },
          "metadata": {}
        }
      ]
    },
    {
      "cell_type": "markdown",
      "source": [
        "# Splitting the data into training and test sets"
      ],
      "metadata": {
        "id": "MptEC-j_f_1P"
      }
    },
    {
      "cell_type": "code",
      "source": [
        "def plot_predictions(train_data=X_train, train_labels=y_train, test_data=X_test, test_labels=y_test, predictions=None):\n",
        "  plt.figure(figsize=(10, 7))\n",
        "\n",
        "  # Training data\n",
        "  plt.scatter(train_data, train_labels, c=\"red\", s=4, label=\"Training Data\")\n",
        "  # Test Data\n",
        "  plt.scatter(test_data, test_labels, c=\"green\", s=4, label=\"Predictions\")\n",
        "  # Predicted Data\n",
        "  try:\n",
        "    plt.scatter(test_data, predictions)\n",
        "  except:\n",
        "    pass\n",
        "\n",
        "  plt.legend(prop={\"size\": 14})"
      ],
      "metadata": {
        "id": "P_uWotBD-CSb"
      },
      "execution_count": 5,
      "outputs": []
    },
    {
      "cell_type": "code",
      "source": [
        "plot_predictions()"
      ],
      "metadata": {
        "colab": {
          "base_uri": "https://localhost:8080/",
          "height": 428
        },
        "id": "_0-9HBUZchY9",
        "outputId": "9e822068-95c2-4b91-ac3d-2117a77f5235"
      },
      "execution_count": 6,
      "outputs": [
        {
          "output_type": "display_data",
          "data": {
            "text/plain": [
              "<Figure size 720x504 with 1 Axes>"
            ],
            "image/png": "[encoded data removed]"
          },
          "metadata": {
            "needs_background": "light"
          }
        }
      ]
    },
    {
      "cell_type": "markdown",
      "source": [
        "# Building the PyTorch Model"
      ],
      "metadata": {
        "id": "PHUiemy-c9jx"
      }
    },
    {
      "cell_type": "code",
      "source": [
        "from torch import nn\n",
        "\n",
        "# Creating the linear Regression model class \n",
        "# Everything in PyTorch is inherited from nn.module\n",
        "\n",
        "# Start with random numbers(params) and look at the train_dataset\n",
        "# update the random numbers to reach the pattern\n",
        "\n",
        "# Start with random values\n",
        "# Look at training data\n",
        "# Adjust the starting values to better represent (get closer to) the \n",
        "# ideal values (weight bias vals used to create the actual data)\n",
        "\n",
        "# Using \n",
        "# Gradient Descent\n",
        "# Backpropagation\n",
        "class LinearRegressionModel(nn.Module):\n",
        "  def __init__(self) -> None:\n",
        "    super().__init__()\n",
        "    self.weights = nn.Parameter(torch.randn(1,\n",
        "                                            requires_grad=True, # requires gradient: ??\n",
        "                                            dtype=torch.float)) \n",
        "    \n",
        "    self.bias = nn.Parameter(torch.randn(1, \n",
        "                                         requires_grad=True,\n",
        "                                         dtype=torch.float))\n",
        "    \n",
        "    # Forward method to define the computation in the model\n",
        "    # Take the weights and bias and try to represent them as params?\n",
        "\n",
        "  def forward(self, x: torch.Tensor)-> torch.Tensor:\n",
        "    return self.weights * x + self.bias # Linear regression formula\n",
        "\n"
      ],
      "metadata": {
        "id": "ySy9qTDgdA_1"
      },
      "execution_count": 7,
      "outputs": []
    },
    {
      "cell_type": "code",
      "source": [
        "torch.manual_seed(42)\n",
        "model_0 = LinearRegressionModel()\n",
        "\n",
        "list(model_0.parameters())"
      ],
      "metadata": {
        "colab": {
          "base_uri": "https://localhost:8080/"
        },
        "id": "NaYRJL2jrPVy",
        "outputId": "0a4718b2-0612-470d-fef4-e084e94402fe"
      },
      "execution_count": 25,
      "outputs": [
        {
          "output_type": "execute_result",
          "data": {
            "text/plain": [
              "[Parameter containing:\n",
              " tensor([0.3367], requires_grad=True), Parameter containing:\n",
              " tensor([0.1288], requires_grad=True)]"
            ]
          },
          "metadata": {},
          "execution_count": 25
        }
      ]
    },
    {
      "cell_type": "code",
      "source": [
        "model_0.state_dict()"
      ],
      "metadata": {
        "colab": {
          "base_uri": "https://localhost:8080/"
        },
        "id": "gsGnJ4n8OLJn",
        "outputId": "56c50439-7048-4e4f-effd-d4e4ec058a21"
      },
      "execution_count": 26,
      "outputs": [
        {
          "output_type": "execute_result",
          "data": {
            "text/plain": [
              "OrderedDict([('weights', tensor([0.3367])), ('bias', tensor([0.1288]))])"
            ]
          },
          "metadata": {},
          "execution_count": 26
        }
      ]
    },
    {
      "cell_type": "code",
      "source": [
        "# Making predictions using torch.inference_mode()\n",
        "# Precting y_test based on x_test\n",
        "\n",
        "with torch.inference_mode():\n",
        "  y_preds = model_0(X_test)\n",
        "\n",
        "y_preds.squeeze(dim=0)"
      ],
      "metadata": {
        "colab": {
          "base_uri": "https://localhost:8080/"
        },
        "id": "VG2RmGgUQHdf",
        "outputId": "645d6667-ab1c-4efa-f9f0-6195adb6fa6c"
      },
      "execution_count": 27,
      "outputs": [
        {
          "output_type": "execute_result",
          "data": {
            "text/plain": [
              "tensor([[0.3982],\n",
              "        [0.4049],\n",
              "        [0.4116],\n",
              "        [0.4184],\n",
              "        [0.4251],\n",
              "        [0.4318],\n",
              "        [0.4386],\n",
              "        [0.4453],\n",
              "        [0.4520],\n",
              "        [0.4588]])"
            ]
          },
          "metadata": {},
          "execution_count": 27
        }
      ]
    },
    {
      "cell_type": "code",
      "source": [
        "plot_predictions(predictions=y_preds)"
      ],
      "metadata": {
        "colab": {
          "base_uri": "https://localhost:8080/",
          "height": 428
        },
        "id": "S-jG_BUiQ1e6",
        "outputId": "ab9af335-364c-4b3a-f982-256e6c8912e7"
      },
      "execution_count": 28,
      "outputs": [
        {
          "output_type": "display_data",
          "data": {
            "text/plain": [
              "<Figure size 720x504 with 1 Axes>"
            ],
            "image/png": "[encoded data removed]"
          },
          "metadata": {
            "needs_background": "light"
          }
        }
      ]
    },
    {
      "cell_type": "markdown",
      "source": [
        "## Train Data\n",
        "\n",
        "Measure how well/poor the models predictions are as compared to the actual data\n",
        "Loss Function = Cost Function = Criterion Function\n",
        "\n",
        "- Loss func: measures the accuracy\n",
        "- Optimizer(optim): Takes into account the loss of a model and adjusts the models parameters (eg weights, biases)\n",
        "\n",
        "For PyTorch we need\n",
        "- A training loop\n",
        "- A testing loop"
      ],
      "metadata": {
        "id": "v1InIU4AUNGf"
      }
    },
    {
      "cell_type": "code",
      "source": [
        "# Setup the loss func\n",
        "loss_fn = nn.L1Loss()\n",
        "\n",
        "# Setup optimizer (Stochastic gradient descent)\n",
        "optimizer = torch.optim.SGD(params=model_0.parameters(), \n",
        "                            # lr = Learning Rate\n",
        "                            lr=0.01)"
      ],
      "metadata": {
        "id": "Nnwha68pW-rd"
      },
      "execution_count": 32,
      "outputs": []
    },
    {
      "cell_type": "markdown",
      "source": [
        "## Training Loop\n",
        "Building a training (and testing) loop in pytorch\n",
        "\n",
        "- loop through data\n",
        "- forward pass/forward propagation: data moving through the models forward func (input to output layer)\n",
        "- Calculate the loss: compare forward pass predictions to ground truth labels\n",
        "- Optimize zero grad\n",
        "- Loss backward - move backwards through the network to calculate the gradients of each of the parameters of our model with respect to the loss \n",
        "- Optimizer Step"
      ],
      "metadata": {
        "id": "gapsF6jla-ks"
      }
    },
    {
      "cell_type": "code",
      "source": [
        "# epoch is one loop through the data\n",
        "epochs = 1\n",
        "\n",
        "# 0: Loop through the data\n",
        "for epoch in epochs:\n",
        "  # Set the model to training mode\n",
        "  model_0.train() # train mode in pytorch \n",
        "\n",
        "  # 1: Forward Pass\n",
        "  y_pred = model_0(X_train)\n",
        "\n",
        "  # 2: Calculate the loss\n",
        "  loss = loss_fn(y_pred, y_train)\n",
        "\n",
        "  # 3: Optimizer zero grad\n",
        "  optimizer.zero_grad()\n",
        "\n",
        "  # 4: Perform backpropagation on the loss with respect to the parameters of the model\n",
        "  loss.backward()\n",
        "\n",
        "  # 5: Step the optimizer (perform gradient descent)\n",
        "  optimizer.step()\n",
        "\n",
        "  model_0.eval()"
      ],
      "metadata": {
        "id": "vBgYYoiSeLIc"
      },
      "execution_count": null,
      "outputs": []
    }
  ]
}